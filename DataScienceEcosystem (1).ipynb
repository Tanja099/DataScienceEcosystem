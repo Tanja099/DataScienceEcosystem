{
 "cells": [
  {
   "cell_type": "markdown",
   "id": "838f415a-4022-4e1a-8fb9-9ca72891f22d",
   "metadata": {},
   "source": [
    "# Data Science Tools and Ecosystem"
   ]
  },
  {
   "cell_type": "markdown",
   "id": "f3745186-9060-4b80-9109-5234926f6f66",
   "metadata": {
    "tags": []
   },
   "source": [
    "Exercise 10 - Insert a markdown cell to list Objectives\n",
    "\n",
    "Below the introduction cell created in Exercise 3, insert a new markdown cell to list the objectives that this notebook covered (i.e. some of the key takeaways from the course). In this new cell start with an introductory line titled: Objectives: in bold font. Then using an unordered list (bullets) indicate 3 to 5 items covered in this notebook, such as List popular languages for Data Science."
   ]
  },
  {
   "cell_type": "markdown",
   "id": "ff079c34-1f60-4c03-9904-21cea60fba41",
   "metadata": {},
   "source": [
    "##### In this notebook, Data Science Tools and Ecosystem are summarized."
   ]
  },
  {
   "cell_type": "markdown",
   "id": "dafcb02b-c903-4df2-9f2d-2416a3c78bf4",
   "metadata": {},
   "source": [
    "**Objectives**:\n",
    "- Finding about the commonly used languages for Data Science scuh as R, SQL, Java,Julia, Scala.\n",
    "- Familiarisation with popular Data Management Tools: include Relational Databases, NoSQL Databases, and Big Data platforms\n",
    "- Getting to know useful libraries such as Scikit-learn, Caffe and TensorFlow\n",
    "- Listimg types of Machine learning (ML)  "
   ]
  },
  {
   "cell_type": "code",
   "execution_count": null,
   "id": "a8e1f93e-19ad-4671-9328-46bd30aa156e",
   "metadata": {},
   "outputs": [],
   "source": []
  },
  {
   "cell_type": "code",
   "execution_count": null,
   "id": "1f35ddb8-0e8d-4cba-b1f3-0aed4af340bd",
   "metadata": {},
   "outputs": [],
   "source": []
  },
  {
   "cell_type": "code",
   "execution_count": null,
   "id": "5f5a675b-d036-4eca-8472-e6280a4f1f28",
   "metadata": {},
   "outputs": [],
   "source": []
  },
  {
   "cell_type": "code",
   "execution_count": null,
   "id": "f343b7da-7fa3-4bd9-927b-3bd659f40175",
   "metadata": {},
   "outputs": [],
   "source": []
  },
  {
   "cell_type": "code",
   "execution_count": null,
   "id": "250817da-6a88-4d04-b46d-9ffb42b76b05",
   "metadata": {},
   "outputs": [],
   "source": []
  },
  {
   "cell_type": "code",
   "execution_count": null,
   "id": "35950676-214a-42c1-a991-56a6b7afe811",
   "metadata": {},
   "outputs": [],
   "source": []
  },
  {
   "cell_type": "code",
   "execution_count": null,
   "id": "d8781fd2-cc1f-4069-9fa1-a6c7bc59fc6f",
   "metadata": {},
   "outputs": [],
   "source": []
  },
  {
   "cell_type": "code",
   "execution_count": null,
   "id": "65c2399e-9ec2-4e94-a3fb-e2b692c02fe3",
   "metadata": {},
   "outputs": [],
   "source": []
  },
  {
   "cell_type": "code",
   "execution_count": null,
   "id": "61c9840e-87cd-4e76-baa6-584daf2976ed",
   "metadata": {},
   "outputs": [],
   "source": []
  },
  {
   "cell_type": "code",
   "execution_count": null,
   "id": "27f66438-9f94-4b1a-9c56-fdb504cb39f7",
   "metadata": {},
   "outputs": [],
   "source": []
  },
  {
   "cell_type": "code",
   "execution_count": null,
   "id": "0cdd6e5a-d9ff-4942-b4b8-a631e416c374",
   "metadata": {},
   "outputs": [],
   "source": []
  },
  {
   "cell_type": "code",
   "execution_count": null,
   "id": "01b1fa64-9e23-4b3a-ad86-77021b0d6c20",
   "metadata": {},
   "outputs": [],
   "source": []
  },
  {
   "cell_type": "markdown",
   "id": "24fe0a7d-a936-4cce-91c0-d47525ef5fc2",
   "metadata": {},
   "source": [
    "# Some of the popular languages that Data Scientists use are:\n",
    "1. Python\n",
    "2. Java\n",
    "3. C++\n"
   ]
  },
  {
   "cell_type": "markdown",
   "id": "2e9d403e-f3e7-4fa8-9a59-37d8097ee6e2",
   "metadata": {},
   "source": [
    "# Some of the commonly used libraries used by Data Scientists include:\n",
    "1. TensorFlow.\n",
    "2. NumPy\n",
    "3. Pandas\n",
    "4. Keras"
   ]
  },
  {
   "cell_type": "markdown",
   "id": "64a871e2-b7ca-4874-86cd-57c13fa1ef0a",
   "metadata": {},
   "source": [
    "#Exercise 7 - Create a markdown cell introducing arithmetic expression examples\n",
    "\n",
    "Add a line in this cell with H3 style heading with text like:\n",
    "\n",
    "Below are a few examples of evaluating arithmetic expressions in Python.\n",
    "\n",
    "### Below are a few examples of evaluating arithmetic expressions in Python"
   ]
  },
  {
   "cell_type": "code",
   "execution_count": null,
   "id": "1f2ead20-b2d0-4999-a29f-b5799f3d13dd",
   "metadata": {},
   "outputs": [],
   "source": [
    "### Below are a few examples of evaluating arithmetic expressions in Python."
   ]
  },
  {
   "cell_type": "markdown",
   "id": "1dbb1b36-dfd2-4530-addf-90968f61af83",
   "metadata": {
    "tags": []
   },
   "source": [
    "Exercise 8 - Create a code cell to multiply and add numbers\n",
    "\n",
    "In this code cell evaluate the expression (3*4)+5.\n",
    "Insert a comment line before the expression to explain the operation e.g.  This a simple arithmetic expression to mutiply then add integers.\n",
    "Then execute the cell to ensure the expression returns the expected output of 17."
   ]
  },
  {
   "cell_type": "code",
   "execution_count": 5,
   "id": "fcd1ff77-79f5-4364-a8b6-1531fefddb31",
   "metadata": {
    "tags": []
   },
   "outputs": [
    {
     "data": {
      "text/plain": [
       "17"
      ]
     },
     "execution_count": 5,
     "metadata": {},
     "output_type": "execute_result"
    }
   ],
   "source": [
    "#This a simple arithmetic expression to mutiply then add integers\n",
    "\n",
    "(3*4)+5"
   ]
  },
  {
   "cell_type": "markdown",
   "id": "d61c7cba-85c7-4fe8-bae4-3f65c05ad12e",
   "metadata": {},
   "source": [
    "Exercise 11 - Create a markdown cell to indicate the Author's name\n",
    "\n",
    "In this markdown cell markdown cell include the following text Author in H2 style heading. Include your name as regular text below the word Author."
   ]
  },
  {
   "cell_type": "markdown",
   "id": "beddd983-1e34-4e79-8b6f-22a934c7ca25",
   "metadata": {},
   "source": [
    "## Author\n",
    "Tanja Kalajdzic"
   ]
  },
  {
   "cell_type": "markdown",
   "id": "98728e4e-2214-4270-81da-abe70382fb03",
   "metadata": {},
   "source": [
    "## Author\n",
    "Tanja Kalajdzic"
   ]
  },
  {
   "cell_type": "code",
   "execution_count": null,
   "id": "4ab13d0b-774a-4390-bbdd-a779a32cc235",
   "metadata": {},
   "outputs": [],
   "source": []
  }
 ],
 "metadata": {
  "kernelspec": {
   "display_name": "Python",
   "language": "python",
   "name": "conda-env-python-py"
  },
  "language_info": {
   "codemirror_mode": {
    "name": "ipython",
    "version": 3
   },
   "file_extension": ".py",
   "mimetype": "text/x-python",
   "name": "python",
   "nbconvert_exporter": "python",
   "pygments_lexer": "ipython3",
   "version": "3.7.12"
  }
 },
 "nbformat": 4,
 "nbformat_minor": 5
}
